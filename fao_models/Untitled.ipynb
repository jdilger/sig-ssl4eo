{
 "cells": [
  {
   "cell_type": "code",
   "execution_count": 2,
   "id": "c028abcd-0559-4ed4-bf08-c7de7a4d3302",
   "metadata": {},
   "outputs": [
    {
     "name": "stdout",
     "output_type": "stream",
     "text": [
      "The autoreload extension is already loaded. To reload it, use:\n",
      "  %reload_ext autoreload\n"
     ]
    }
   ],
   "source": [
    "import pandas as pd\n",
    "import json\n",
    "from main import load_base_model, load_yml\n",
    "from models.dino import utils\n",
    "from models.dino import vision_transformer as vits\n",
    "from models.classification import linear\n",
    "from pathlib import Path\n",
    "from _types import Config\n",
    "%load_ext autoreload\n",
    "%autoreload 1"
   ]
  },
  {
   "cell_type": "code",
   "execution_count": 2,
   "id": "307f376b-65a3-4902-8ba1-82fcdaff73f5",
   "metadata": {},
   "outputs": [
    {
     "ename": "FileNotFoundError",
     "evalue": "[Errno 2] No such file or directory: 'linear-dino-0/log.txt'",
     "output_type": "error",
     "traceback": [
      "\u001b[0;31m---------------------------------------------------------------------------\u001b[0m",
      "\u001b[0;31mFileNotFoundError\u001b[0m                         Traceback (most recent call last)",
      "Cell \u001b[0;32mIn[2], line 4\u001b[0m\n\u001b[1;32m      2\u001b[0m log_data \u001b[38;5;241m=\u001b[39m []\n\u001b[1;32m      3\u001b[0m log_path \u001b[38;5;241m=\u001b[39m \u001b[38;5;124m\"\u001b[39m\u001b[38;5;124mlinear-dino-0/log.txt\u001b[39m\u001b[38;5;124m\"\u001b[39m\n\u001b[0;32m----> 4\u001b[0m \u001b[38;5;28;01mwith\u001b[39;00m \u001b[38;5;28;43mopen\u001b[39;49m\u001b[43m(\u001b[49m\u001b[43mlog_path\u001b[49m\u001b[43m)\u001b[49m \u001b[38;5;28;01mas\u001b[39;00m file:\n\u001b[1;32m      5\u001b[0m     \u001b[38;5;28;01mwhile\u001b[39;00m line \u001b[38;5;241m:=\u001b[39m file\u001b[38;5;241m.\u001b[39mreadline():\n\u001b[1;32m      6\u001b[0m         line \u001b[38;5;241m=\u001b[39m json\u001b[38;5;241m.\u001b[39mloads(line\u001b[38;5;241m.\u001b[39mrstrip())\n",
      "File \u001b[0;32m~/miniforge3/envs/torch/lib/python3.11/site-packages/IPython/core/interactiveshell.py:324\u001b[0m, in \u001b[0;36m_modified_open\u001b[0;34m(file, *args, **kwargs)\u001b[0m\n\u001b[1;32m    317\u001b[0m \u001b[38;5;28;01mif\u001b[39;00m file \u001b[38;5;129;01min\u001b[39;00m {\u001b[38;5;241m0\u001b[39m, \u001b[38;5;241m1\u001b[39m, \u001b[38;5;241m2\u001b[39m}:\n\u001b[1;32m    318\u001b[0m     \u001b[38;5;28;01mraise\u001b[39;00m \u001b[38;5;167;01mValueError\u001b[39;00m(\n\u001b[1;32m    319\u001b[0m         \u001b[38;5;124mf\u001b[39m\u001b[38;5;124m\"\u001b[39m\u001b[38;5;124mIPython won\u001b[39m\u001b[38;5;124m'\u001b[39m\u001b[38;5;124mt let you open fd=\u001b[39m\u001b[38;5;132;01m{\u001b[39;00mfile\u001b[38;5;132;01m}\u001b[39;00m\u001b[38;5;124m by default \u001b[39m\u001b[38;5;124m\"\u001b[39m\n\u001b[1;32m    320\u001b[0m         \u001b[38;5;124m\"\u001b[39m\u001b[38;5;124mas it is likely to crash IPython. If you know what you are doing, \u001b[39m\u001b[38;5;124m\"\u001b[39m\n\u001b[1;32m    321\u001b[0m         \u001b[38;5;124m\"\u001b[39m\u001b[38;5;124myou can use builtins\u001b[39m\u001b[38;5;124m'\u001b[39m\u001b[38;5;124m open.\u001b[39m\u001b[38;5;124m\"\u001b[39m\n\u001b[1;32m    322\u001b[0m     )\n\u001b[0;32m--> 324\u001b[0m \u001b[38;5;28;01mreturn\u001b[39;00m \u001b[43mio_open\u001b[49m\u001b[43m(\u001b[49m\u001b[43mfile\u001b[49m\u001b[43m,\u001b[49m\u001b[43m \u001b[49m\u001b[38;5;241;43m*\u001b[39;49m\u001b[43margs\u001b[49m\u001b[43m,\u001b[49m\u001b[43m \u001b[49m\u001b[38;5;241;43m*\u001b[39;49m\u001b[38;5;241;43m*\u001b[39;49m\u001b[43mkwargs\u001b[49m\u001b[43m)\u001b[49m\n",
      "\u001b[0;31mFileNotFoundError\u001b[0m: [Errno 2] No such file or directory: 'linear-dino-0/log.txt'"
     ]
    }
   ],
   "source": [
    "# unpack log\n",
    "log_data = []\n",
    "log_path = \"linear-dino-0/log.txt\"\n",
    "with open(log_path) as file:\n",
    "    while line := file.readline():\n",
    "        line = json.loads(line.rstrip())\n",
    "        print(line)\n",
    "        log_data.append(line)\n",
    "df = pd.DataFrame(log_data)"
   ]
  },
  {
   "cell_type": "code",
   "execution_count": null,
   "id": "08d6b229-a85f-40e6-8a2c-9f8d3b4db17d",
   "metadata": {},
   "outputs": [],
   "source": [
    "df"
   ]
  },
  {
   "cell_type": "code",
   "execution_count": null,
   "id": "114482c9-9afc-496f-beee-7d913d4bef6c",
   "metadata": {},
   "outputs": [],
   "source": []
  },
  {
   "cell_type": "code",
   "execution_count": 5,
   "id": "fcd87365-aa27-484d-a83f-152fa365200b",
   "metadata": {},
   "outputs": [
    {
     "name": "stdout",
     "output_type": "stream",
     "text": [
      "Config(imgs_training='/home/sepal-user/data_ssl4eo/data_ssl4eo/training/imgs', labels_training='/home/sepal-user/sig-ssl4eo/fao_models/data/match_training_sample.csv', imgs_testing='/home/sepal-user/data_ssl4eo/data_ssl4eo/testing/imgs', labels_testing='/home/sepal-user/sig-ssl4eo/fao_models/data/match_testing_sample.csv', arch='vit_small', model_root='/home/sepal-user/sig-ssl4eo/B13_vits16_dino_0099_ckpt.pth', avgpool_patchtokens=False, patch_size=16, n_last_blocks=4, lr=0.001, batch_size=32, checkpoints_dir='linear-dino-0', resume=True, epochs=5, num_workers=10, seed=42, random_subset_frac=0.01, checkpoint_key='teacher')\n"
     ]
    }
   ],
   "source": [
    "ROOT = Path(\"/home/sepal-user/\")\n",
    "config_file = ROOT /\"sig-ssl4eo/linear-dino-0.yml\"\n",
    "config = Config(**load_yml(config_file))\n",
    "print(config) "
   ]
  },
  {
   "cell_type": "code",
   "execution_count": 16,
   "id": "da696bc6-95d7-4c1f-9b66-c954580dce04",
   "metadata": {},
   "outputs": [],
   "source": [
    "from datasets.ssl4eo_dataset import SSL4EO, random_subset\n",
    "from torch.utils.data import DataLoader\n",
    "_data_train = SSL4EO(\n",
    "    root=config.imgs_training, \n",
    "    mode=\"s2c\", \n",
    "    label=config.labels_training, \n",
    "    normalize=False\n",
    ")\n",
    "_data_test = SSL4EO(\n",
    "    root=config.imgs_testing, \n",
    "    mode=\"s2c\", \n",
    "    label=config.labels_testing, \n",
    "    normalize=False\n",
    ")\n",
    "_data_train = random_subset(_data_train, config.random_subset_frac, config.seed)\n",
    "_data_test = random_subset(_data_train, config.random_subset_frac, config.seed)\n",
    "\n",
    "val_loader = DataLoader(\n",
    "    _data_test, batch_size=2, shuffle=False, drop_last=True\n",
    ")"
   ]
  },
  {
   "cell_type": "code",
   "execution_count": 38,
   "id": "3babb96b-13b9-4ea4-854f-e3ea12728c8a",
   "metadata": {},
   "outputs": [],
   "source": [
    "import torch\n",
    "image, target = _data_test[0]\n",
    "image = torch.unsqueeze(torch.tensor(image),0).type(torch.float32)\n",
    "target = torch.unsqueeze(torch.tensor(target),0).type(torch.float32)"
   ]
  },
  {
   "cell_type": "code",
   "execution_count": 9,
   "id": "afe9c29b-81ab-4a2e-b156-d88b3ad645ea",
   "metadata": {},
   "outputs": [
    {
     "name": "stdout",
     "output_type": "stream",
     "text": [
      "Take key teacher in provided checkpoint dict\n",
      "Pretrained weights found at /home/sepal-user/sig-ssl4eo/B13_vits16_dino_0099_ckpt.pth and loaded with msg: _IncompatibleKeys(missing_keys=[], unexpected_keys=['head.mlp.0.weight', 'head.mlp.0.bias', 'head.mlp.2.weight', 'head.mlp.2.bias', 'head.mlp.4.weight', 'head.mlp.4.bias', 'head.last_layer.weight_g', 'head.last_layer.weight_v'])\n",
      "Model vit_small built.\n"
     ]
    }
   ],
   "source": [
    "\n",
    "model, embed_dim = load_base_model(\n",
    "    pretrained=config.model_root,\n",
    "    checkpoint_key=config.checkpoint_key,\n",
    "    arch=config.arch,\n",
    "    patch_size=config.patch_size,\n",
    "    n_last_blocks=config.n_last_blocks,\n",
    "    avgpool_patchtokens=config.avgpool_patchtokens,\n",
    ")\n",
    "linear_classifier = linear.LinearClassifier(embed_dim, num_labels=2)"
   ]
  },
  {
   "cell_type": "code",
   "execution_count": 31,
   "id": "d0ca5d35-c37d-4287-bd66-99f027a9e9ac",
   "metadata": {},
   "outputs": [],
   "source": [
    "linear_classifier.eval()\n",
    "with torch.no_grad():\n",
    "    intermediate_output = model.get_intermediate_layers(image, config.n_last_blocks)\n",
    "    output = torch.cat([x[:, 0] for x in intermediate_output], dim=-1)\n",
    "\n",
    "output = linear_classifier(output)"
   ]
  },
  {
   "cell_type": "code",
   "execution_count": 41,
   "id": "b39f022b-91a2-414a-9265-9364631fe307",
   "metadata": {},
   "outputs": [
    {
     "data": {
      "text/plain": [
       "(tensor([[0.4467, 0.3195]]), tensor([[0., 1.]]), 50.0)"
      ]
     },
     "execution_count": 41,
     "metadata": {},
     "output_type": "execute_result"
    }
   ],
   "source": [
    "from sklearn.metrics import average_precision_score\n",
    "score = torch.sigmoid(output).detach().cpu()\n",
    "acc1 = average_precision_score(target, score, average=\"micro\") * 100.0\n",
    "score, target, acc1"
   ]
  }
 ],
 "metadata": {
  "kernelspec": {
   "display_name": "PyTorch",
   "language": "python",
   "name": "torch-jjd"
  },
  "language_info": {
   "codemirror_mode": {
    "name": "ipython",
    "version": 3
   },
   "file_extension": ".py",
   "mimetype": "text/x-python",
   "name": "python",
   "nbconvert_exporter": "python",
   "pygments_lexer": "ipython3",
   "version": "3.11.6"
  }
 },
 "nbformat": 4,
 "nbformat_minor": 5
}
